{
 "cells": [
  {
   "cell_type": "code",
   "execution_count": 1,
   "metadata": {
    "collapsed": true
   },
   "outputs": [],
   "source": [
    "import json"
   ]
  },
  {
   "cell_type": "code",
   "execution_count": 2,
   "metadata": {
    "collapsed": false
   },
   "outputs": [],
   "source": [
    "with open('colorbrewer.json') as f:\n",
    "    data = json.load(f)"
   ]
  },
  {
   "cell_type": "code",
   "execution_count": 3,
   "metadata": {
    "collapsed": true
   },
   "outputs": [],
   "source": [
    "def to_gpl(rgb_tuples, color_names, palette_name, columns=1, width=4):\n",
    "    out_lines = []\n",
    "    out_lines.append('GIMP Palette\\n')\n",
    "    out_lines.append('Name: %s\\n' % palette_name)\n",
    "    out_lines.append('Columns: %i\\n' % columns)\n",
    "    out_lines.append('#\\n')\n",
    "    \n",
    "    for tup, name in zip(rgb_tuples, color_names):\n",
    "        out_lines.append('{0:{width}}{1:{width}}{2:{width}} {3}\\n'.format(*tup, name, width=width))\n",
    "    return out_lines"
   ]
  },
  {
   "cell_type": "code",
   "execution_count": 4,
   "metadata": {
    "collapsed": true
   },
   "outputs": [],
   "source": [
    "rgb_colors = []\n",
    "rgb_names = []\n",
    "\n",
    "for key in data.keys():\n",
    "    max_n = max([int(i) for i in data[key].keys() if i != 'type'])\n",
    "    \n",
    "    colors = [tuple(int(i) for i in rgb_str[4:-1].split(','))\n",
    "              for rgb_str in data[key][str(max_n)]]\n",
    "    names = [\"%s.%i\" % (key, i) for i in range(len(colors))]\n",
    "    \n",
    "    rgb_colors += colors\n",
    "    rgb_names += names"
   ]
  },
  {
   "cell_type": "code",
   "execution_count": 5,
   "metadata": {
    "collapsed": false
   },
   "outputs": [],
   "source": [
    "lines = to_gpl(rgb_colors, rgb_names, 'ColorBrewer2.0', columns=4)"
   ]
  },
  {
   "cell_type": "code",
   "execution_count": 6,
   "metadata": {
    "collapsed": true
   },
   "outputs": [],
   "source": [
    "with open('cbrewer.gpl', 'w') as f:\n",
    "    f.writelines(lines)"
   ]
  },
  {
   "cell_type": "code",
   "execution_count": null,
   "metadata": {
    "collapsed": true
   },
   "outputs": [],
   "source": []
  }
 ],
 "metadata": {
  "anaconda-cloud": {},
  "kernelspec": {
   "display_name": "Python [conda env:sci_base]",
   "language": "python",
   "name": "conda-env-sci_base-py"
  },
  "language_info": {
   "codemirror_mode": {
    "name": "ipython",
    "version": 3
   },
   "file_extension": ".py",
   "mimetype": "text/x-python",
   "name": "python",
   "nbconvert_exporter": "python",
   "pygments_lexer": "ipython3",
   "version": "3.5.2"
  }
 },
 "nbformat": 4,
 "nbformat_minor": 1
}
